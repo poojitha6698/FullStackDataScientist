{
 "cells": [
  {
   "cell_type": "code",
   "execution_count": 2,
   "id": "6c59940f",
   "metadata": {},
   "outputs": [
    {
     "name": "stdout",
     "output_type": "stream",
     "text": [
      "Total Words: 5\n"
     ]
    }
   ],
   "source": [
    "with open(\"file.txt\",\"r\") as f:\n",
    "    text=f.read()\n",
    "words=text.split()\n",
    "print(\"Total Words:\",len(words))"
   ]
  },
  {
   "cell_type": "code",
   "execution_count": 6,
   "id": "abf00cab",
   "metadata": {},
   "outputs": [
    {
     "name": "stdout",
     "output_type": "stream",
     "text": [
      "Pass@123\n",
      "True\n"
     ]
    }
   ],
   "source": [
    "import re\n",
    "\n",
    "def is_strong(password):\n",
    "    if (len(password) >= 8 and\n",
    "        re.search(r\"[A-Z]\", password) and\n",
    "        re.search(r\"[a-z]\", password) and\n",
    "        re.search(r\"[0-9]\", password) and\n",
    "        re.search(r\"[^A-Za-z0-9]\", password)):\n",
    "        return True\n",
    "    return False\n",
    "\n",
    "x = input(\"Enter password: \")\n",
    "print(x)\n",
    "print(is_strong(x))   \n"
   ]
  },
  {
   "cell_type": "code",
   "execution_count": 8,
   "id": "6f4fe5a9",
   "metadata": {},
   "outputs": [
    {
     "name": "stdout",
     "output_type": "stream",
     "text": [
      "a=15,b=45,op=*\n",
      "675\n"
     ]
    }
   ],
   "source": [
    "def calculator(a,b,op):\n",
    "    if op=='+': return a+b\n",
    "    if op=='-': return a-b\n",
    "    if op=='*': return a*b\n",
    "    if op=='/': return a/b if b!=0 else \"Error:Division by zero\"\n",
    "    return \"Invalid Operation\"\n",
    "\n",
    "a=int(input())\n",
    "b=int(input())\n",
    "op=input()\n",
    "print(f\"a={a},b={b},op={op}\")\n",
    "print(calculator(a,b,op))"
   ]
  },
  {
   "cell_type": "code",
   "execution_count": 12,
   "id": "467b403f",
   "metadata": {},
   "outputs": [
    {
     "name": "stdout",
     "output_type": "stream",
     "text": [
      "['Alice', 'Bob', 'Alice', 'Charlie', 'Bob']\n",
      "Duplicates: ['Bob', 'Alice']\n"
     ]
    }
   ],
   "source": [
    "names=input().split()\n",
    "print(names)\n",
    "duplicates = [x for x in set(names) if names.count(x) > 1]\n",
    "print(\"Duplicates:\",duplicates)"
   ]
  },
  {
   "cell_type": "code",
   "execution_count": 13,
   "id": "8cd010b7",
   "metadata": {},
   "outputs": [
    {
     "name": "stdout",
     "output_type": "stream",
     "text": [
      "c=0,f=32\n",
      "32.0\n",
      "0.0\n"
     ]
    }
   ],
   "source": [
    "def c_to_f(c):return (c*9/5)+32\n",
    "def f_to_c(f):return (f-32)*5/9\n",
    "c=int(input())\n",
    "f=int(input())\n",
    "print(f\"c={c},f={f}\")\n",
    "print(c_to_f(c))\n",
    "print(f_to_c(f))"
   ]
  },
  {
   "cell_type": "code",
   "execution_count": 14,
   "id": "f79a4c34",
   "metadata": {},
   "outputs": [
    {
     "name": "stdout",
     "output_type": "stream",
     "text": [
      "[3, 7, 2, 9, 1]\n",
      "Largest: 9\n"
     ]
    }
   ],
   "source": [
    "nums=list(map(int,input(\"Enter the numbers:\").split()))\n",
    "print(nums)\n",
    "print(\"Largest:\",max(nums))"
   ]
  },
  {
   "cell_type": "code",
   "execution_count": 18,
   "id": "4f8ea4bc",
   "metadata": {},
   "outputs": [
    {
     "name": "stdout",
     "output_type": "stream",
     "text": [
      "p=1000,t=2,r=5\n",
      "si=100.0\n"
     ]
    }
   ],
   "source": [
    "p=int(input())\n",
    "t=int(input())\n",
    "r=int(input())\n",
    "print(f\"p={p},t={t},r={r}\")\n",
    "si=(p*t*r)/100\n",
    "print(f\"si={si}\")"
   ]
  },
  {
   "cell_type": "code",
   "execution_count": 19,
   "id": "18490a03",
   "metadata": {},
   "outputs": [
    {
     "name": "stdout",
     "output_type": "stream",
     "text": [
      "Defaulters: ['Bob', 'Charlie']\n"
     ]
    }
   ],
   "source": [
    "attendance = {\"Alice\": 80, \"Bob\": 70, \"Charlie\": 60}\n",
    "defaulters = [name for name, per in attendance.items() if per < 75]\n",
    "print(\"Defaulters:\", defaulters)\n"
   ]
  },
  {
   "cell_type": "code",
   "execution_count": 23,
   "id": "77eccc7f",
   "metadata": {},
   "outputs": [
    {
     "name": "stdout",
     "output_type": "stream",
     "text": [
      "9865\n",
      "Sum of digits: 28\n"
     ]
    }
   ],
   "source": [
    "num = int(input())\n",
    "print(num)\n",
    "print(\"Sum of digits:\", sum(int(d) for d in str(num)))\n"
   ]
  },
  {
   "cell_type": "code",
   "execution_count": 24,
   "id": "11e4888c",
   "metadata": {},
   "outputs": [
    {
     "name": "stdout",
     "output_type": "stream",
     "text": [
      "True\n"
     ]
    }
   ],
   "source": [
    "def is_prime(n):\n",
    "    if n<2:\n",
    "        return False\n",
    "    for i in range(2,int(n**0.5)+1):\n",
    "        if n%i==0:return False\n",
    "    return True\n",
    "\n",
    "x=int(input())\n",
    "print(is_prime(x))"
   ]
  },
  {
   "cell_type": "code",
   "execution_count": 27,
   "id": "b539ec40",
   "metadata": {},
   "outputs": [
    {
     "name": "stdout",
     "output_type": "stream",
     "text": [
      "[52, 45, 97, 23, 1]\n",
      "Largest: 97  Smallest: 1\n"
     ]
    }
   ],
   "source": [
    "nums=list(map(int,input(\"Enter numbers:\").split()))\n",
    "print(nums)\n",
    "print(\"Largest:\",max(nums),\" Smallest:\",min(nums))"
   ]
  },
  {
   "cell_type": "code",
   "execution_count": 31,
   "id": "86e3440e",
   "metadata": {},
   "outputs": [
    {
     "name": "stdout",
     "output_type": "stream",
     "text": [
      "{'Apple': 50.0, 'Banana': 30.0, 'Orange': 43.0}\n",
      "Total Bill: 123.0\n"
     ]
    }
   ],
   "source": [
    "n = int(input(\"How many items? \"))\n",
    "my_dict = {}\n",
    "\n",
    "for _ in range(n):\n",
    "    key = input(\"Enter key: \")\n",
    "    value = float(input(\"Enter value: \"))   \n",
    "    my_dict[key] = value\n",
    "\n",
    "print(my_dict)\n",
    "total = sum(my_dict.values())\n",
    "print(\"Total Bill:\", total)\n"
   ]
  },
  {
   "cell_type": "code",
   "execution_count": 35,
   "id": "90e68d18",
   "metadata": {},
   "outputs": [
    {
     "name": "stdout",
     "output_type": "stream",
     "text": [
      "a=23,b=41,c=12\n",
      "Largest: 41\n"
     ]
    }
   ],
   "source": [
    "a=int(input())\n",
    "b=int(input())\n",
    "c=int(input())\n",
    "print(f\"a={a},b={b},c={c}\")\n",
    "print(\"Largest:\",max(a,b,c))"
   ]
  },
  {
   "cell_type": "code",
   "execution_count": 37,
   "id": "71fed639",
   "metadata": {},
   "outputs": [
    {
     "name": "stdout",
     "output_type": "stream",
     "text": [
      "Banana\n",
      "{'B': 1, 'a': 3, 'n': 2}\n"
     ]
    }
   ],
   "source": [
    "s=input()\n",
    "print(s)\n",
    "count={}\n",
    "for ch in s:\n",
    "    count[ch]=count.get(ch,0)+1\n",
    "print(count)"
   ]
  },
  {
   "cell_type": "code",
   "execution_count": 39,
   "id": "ce1b1e1b",
   "metadata": {},
   "outputs": [
    {
     "name": "stdout",
     "output_type": "stream",
     "text": [
      "250\n",
      "Total Bill: 1700\n"
     ]
    }
   ],
   "source": [
    "def electricity_bill(units):\n",
    "    if units<=100:\n",
    "        return units*5\n",
    "    elif units<=200:\n",
    "        return 100*5+(units-100)*7\n",
    "    else:\n",
    "        return 100*5+100*7+(units-200)*10\n",
    "units=int(input())\n",
    "print(units)\n",
    "print(\"Total Bill:\",electricity_bill(units))"
   ]
  },
  {
   "cell_type": "code",
   "execution_count": 40,
   "id": "919a809d",
   "metadata": {},
   "outputs": [
    {
     "name": "stdout",
     "output_type": "stream",
     "text": [
      "['Akshaya', 'Divya', 'Niveditha', 'Poojitha', 'Sushmitha']\n"
     ]
    }
   ],
   "source": [
    "names=input().split()\n",
    "names.sort()\n",
    "print(names)"
   ]
  },
  {
   "cell_type": "code",
   "execution_count": 42,
   "id": "e447e10b",
   "metadata": {},
   "outputs": [
    {
     "name": "stdout",
     "output_type": "stream",
     "text": [
      "2541\n",
      "1452\n"
     ]
    }
   ],
   "source": [
    "num=int(input())\n",
    "print(num)\n",
    "print(int(str(num)[::-1]))"
   ]
  },
  {
   "cell_type": "code",
   "execution_count": 44,
   "id": "e07deb44",
   "metadata": {},
   "outputs": [
    {
     "name": "stdout",
     "output_type": "stream",
     "text": [
      "[1, -2, 0, 5, -3, 0]\n",
      "Positive: 2 Negative: 2 Zero: 2\n"
     ]
    }
   ],
   "source": [
    "nums=list(map(int,input().split()))\n",
    "pos=sum(1 for n in nums if n>0)\n",
    "neg=sum(1 for n in nums if n<0)\n",
    "zero=sum(1 for n in nums if n==0)\n",
    "print(nums)\n",
    "print(\"Positive:\",pos,\"Negative:\",neg,\"Zero:\",zero)"
   ]
  },
  {
   "cell_type": "code",
   "execution_count": 46,
   "id": "15fe6b59",
   "metadata": {},
   "outputs": [
    {
     "name": "stdout",
     "output_type": "stream",
     "text": [
      "Access Granted\n"
     ]
    }
   ],
   "source": [
    "crct_pin=\"1234\"\n",
    "for attempt in range(3):\n",
    "    pin=input(\"Enter PIN:\")\n",
    "    if pin==crct_pin:\n",
    "        print(\"Access Granted\")\n",
    "        break\n",
    "else:\n",
    "    print(\"Account Blocked\")\n",
    "\n"
   ]
  },
  {
   "cell_type": "code",
   "execution_count": 48,
   "id": "88ff8a7f",
   "metadata": {},
   "outputs": [
    {
     "name": "stdout",
     "output_type": "stream",
     "text": [
      "Error:Division by zero\n"
     ]
    }
   ],
   "source": [
    "try:\n",
    "    a=int(input(\"Enter first number:\"))\n",
    "    b=int(input(\"Enter second number:\"))\n",
    "    print(\"Result:\",a/b)\n",
    "except ZeroDivisionError:\n",
    "    print(\"Error:Division by zero\")"
   ]
  },
  {
   "cell_type": "code",
   "execution_count": 50,
   "id": "32ae1ecb",
   "metadata": {},
   "outputs": [
    {
     "name": "stdout",
     "output_type": "stream",
     "text": [
      "Result: 2.0\n"
     ]
    }
   ],
   "source": [
    "try:\n",
    "    a=int(input(\"Enter first number:\"))\n",
    "    b=int(input(\"Enter second number:\"))\n",
    "    print(\"Result:\",a/b)\n",
    "except ValueError:\n",
    "    print(\"Invalid input!Enter numbers only.\")\n",
    "except ZeroDivisonError:\n",
    "    print(\"Can't Divide by zero\")"
   ]
  },
  {
   "cell_type": "code",
   "execution_count": 53,
   "id": "38cd8487",
   "metadata": {},
   "outputs": [
    {
     "name": "stdout",
     "output_type": "stream",
     "text": [
      "750\n",
      "Withdrawal Successful! Remaining Balance:11250\n"
     ]
    }
   ],
   "source": [
    "class InsufficientFunds(Exception):\n",
    "    pass\n",
    "balance=12000\n",
    "withdraw=int(input())\n",
    "print(withdraw)\n",
    "try:\n",
    "    if withdraw>balance:\n",
    "        raise InsufficientFunds(\"Not Enough balance!\")\n",
    "    else:\n",
    "        balance-=withdraw\n",
    "        print(f\"Withdrawal Successful! Remaining Balance:{balance}\")\n",
    "except InsufficientFunds as e:\n",
    "    print(\"Transaction Failed:\",e)"
   ]
  },
  {
   "cell_type": "code",
   "execution_count": 54,
   "id": "56f9f51c",
   "metadata": {},
   "outputs": [
    {
     "name": "stdout",
     "output_type": "stream",
     "text": [
      "250\n",
      "Total Bill: 1700\n",
      "Bill processing finished\n"
     ]
    }
   ],
   "source": [
    "def electricity_bill(units):\n",
    "    if units<=100:\n",
    "        return units*5\n",
    "    if units<=200:\n",
    "        return 100*5+(units-100)*7\n",
    "    else:\n",
    "        return 100*5+100*7+(units-200)*10\n",
    "try:\n",
    "    units=int(input())\n",
    "    print(units)\n",
    "    print(\"Total Bill:\",electricity_bill(units))\n",
    "except ValueError:\n",
    "    print(\"Invalid Input!Please Enter a Number\")\n",
    "finally:\n",
    "    print(\"Bill processing finished\")\n"
   ]
  },
  {
   "cell_type": "code",
   "execution_count": null,
   "id": "b21e45b7",
   "metadata": {},
   "outputs": [],
   "source": []
  }
 ],
 "metadata": {
  "kernelspec": {
   "display_name": "Python 3",
   "language": "python",
   "name": "python3"
  },
  "language_info": {
   "codemirror_mode": {
    "name": "ipython",
    "version": 3
   },
   "file_extension": ".py",
   "mimetype": "text/x-python",
   "name": "python",
   "nbconvert_exporter": "python",
   "pygments_lexer": "ipython3",
   "version": "3.11.0"
  }
 },
 "nbformat": 4,
 "nbformat_minor": 5
}
