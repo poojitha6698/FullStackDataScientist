{
 "cells": [
  {
   "cell_type": "code",
   "execution_count": 1,
   "id": "fe66f037",
   "metadata": {},
   "outputs": [
    {
     "name": "stdout",
     "output_type": "stream",
     "text": [
      "14 is not Prime \n"
     ]
    }
   ],
   "source": [
    "num = int(input())\n",
    "\n",
    "if num > 1:\n",
    "    for i in range(2, num):\n",
    "        if num % i == 0:\n",
    "            print(num, \"is not Prime \")\n",
    "            break\n",
    "    else:\n",
    "        print(num, \"is Prime \")\n",
    "else:\n",
    "    print(num, \"is  Prime \")\n"
   ]
  },
  {
   "cell_type": "code",
   "execution_count": 4,
   "id": "ba3a4fcb",
   "metadata": {},
   "outputs": [
    {
     "name": "stdout",
     "output_type": "stream",
     "text": [
      "[12, 14, 23, 43, 56, 67]\n",
      "Second largest number is: 56\n"
     ]
    }
   ],
   "source": [
    "n= [int(x) for x in input().split()]\n",
    "n.sort()\n",
    "print(n)\n",
    "print(\"Second largest number is:\", n[-2])\n"
   ]
  },
  {
   "cell_type": "code",
   "execution_count": 5,
   "id": "a6c8f820",
   "metadata": {},
   "outputs": [
    {
     "name": "stdout",
     "output_type": "stream",
     "text": [
      "Sum of even numbers from 1 to 50: 650\n"
     ]
    }
   ],
   "source": [
    "sum = 0\n",
    "for i in range(1, 51):\n",
    "    if i % 2 == 0:\n",
    "        sum+= i\n",
    "print(\"Sum of even numbers from 1 to 50:\", sum)\n"
   ]
  },
  {
   "cell_type": "code",
   "execution_count": 7,
   "id": "d0d3b872",
   "metadata": {},
   "outputs": [
    {
     "name": "stdout",
     "output_type": "stream",
     "text": [
      "India Is MY COUntry\n",
      "Uppercase letters: 7\n",
      "Lowercase letters: 9\n"
     ]
    }
   ],
   "source": [
    "text = input()\n",
    "upper = lower = 0\n",
    "\n",
    "for ch in text:\n",
    "    if ch.isupper():\n",
    "        upper += 1\n",
    "    elif ch.islower():\n",
    "        lower += 1\n",
    "print(text)\n",
    "print(\"Uppercase letters:\", upper)\n",
    "print(\"Lowercase letters:\", lower)\n"
   ]
  },
  {
   "cell_type": "code",
   "execution_count": 8,
   "id": "a084b4ae",
   "metadata": {},
   "outputs": [
    {
     "name": "stdout",
     "output_type": "stream",
     "text": [
      "0 1 1 2 "
     ]
    }
   ],
   "source": [
    "n = int(input())\n",
    "a, b = 0, 1\n",
    "\n",
    "for i in range(n):\n",
    "    print(a, end=\" \")\n",
    "    a, b = b, a + b\n"
   ]
  },
  {
   "cell_type": "code",
   "execution_count": 11,
   "id": "e5d41cf2",
   "metadata": {},
   "outputs": [
    {
     "name": "stdout",
     "output_type": "stream",
     "text": [
      "seek\n",
      "size\n",
      "They are not Anagrams \n"
     ]
    }
   ],
   "source": [
    "s1 = input()\n",
    "s2 = input()\n",
    "print(s1)\n",
    "print(s2)\n",
    "\n",
    "if sorted(s1) == sorted(s2):\n",
    "    print(\"They are Anagrams \")\n",
    "else:\n",
    "    print(\"They are not Anagrams \")\n"
   ]
  },
  {
   "cell_type": "code",
   "execution_count": 15,
   "id": "591b5141",
   "metadata": {},
   "outputs": [
    {
     "name": "stdout",
     "output_type": "stream",
     "text": [
      "496 is a Perfect number \n"
     ]
    }
   ],
   "source": [
    "n= int(input())\n",
    "div_sum = 0\n",
    "\n",
    "for i in range(1, n):\n",
    "    if n % i == 0:\n",
    "        div_sum += i\n",
    "\n",
    "if div_sum == n:\n",
    "    print(n, \"is a Perfect number \")\n",
    "else:\n",
    "    print(n, \"is not a Perfect number \")\n"
   ]
  },
  {
   "cell_type": "code",
   "execution_count": 24,
   "id": "9ca26740",
   "metadata": {},
   "outputs": [
    {
     "name": "stdout",
     "output_type": "stream",
     "text": [
      "Percentage: 82.0\n",
      "Grade: B\n"
     ]
    }
   ],
   "source": [
    "total = 0\n",
    "\n",
    "for i in range(5):\n",
    "    mark = int(input(f\"Enter mark {i+1}: \"))\n",
    "    total += mark   \n",
    "\n",
    "per = total / 5\n",
    "print(\"Percentage:\", per)\n",
    "\n",
    "if per >= 90:\n",
    "    print(\"Grade: A\")\n",
    "elif per >= 75:\n",
    "    print(\"Grade: B\")\n",
    "elif per >= 50:\n",
    "    print(\"Grade: C\")\n",
    "else:\n",
    "    print(\"Grade: Fail\")\n"
   ]
  },
  {
   "cell_type": "code",
   "execution_count": 25,
   "id": "71d59b3e",
   "metadata": {},
   "outputs": [
    {
     "name": "stdout",
     "output_type": "stream",
     "text": [
      "2 3 5 7 11 13 17 19 23 29 31 37 41 43 47 53 59 61 67 71 73 79 83 89 97 "
     ]
    }
   ],
   "source": [
    "for n in range(2, 101):\n",
    "    for i in range(2, n):\n",
    "        if n % i == 0:\n",
    "            break\n",
    "    else:\n",
    "        print(n, end=\" \")\n"
   ]
  },
  {
   "cell_type": "code",
   "execution_count": 27,
   "id": "1839eee5",
   "metadata": {},
   "outputs": [
    {
     "name": "stdout",
     "output_type": "stream",
     "text": [
      "How are you\n",
      "Word count: 3\n"
     ]
    }
   ],
   "source": [
    "s = input()\n",
    "count = 1\n",
    "\n",
    "for ch in s:\n",
    "    if ch == \" \":\n",
    "        count += 1\n",
    "print(s)\n",
    "print(\"Word count:\", count)\n"
   ]
  },
  {
   "cell_type": "code",
   "execution_count": 29,
   "id": "4d8f739e",
   "metadata": {},
   "outputs": [
    {
     "name": "stdout",
     "output_type": "stream",
     "text": [
      "Final ticket price: 45.54\n"
     ]
    }
   ],
   "source": [
    "price = float(input())\n",
    "age = int(input())\n",
    "student = input()\n",
    "\n",
    "if student.lower() == \"yes\":\n",
    "    price -= price * 0.20\n",
    "elif age >= 60:\n",
    "    price -= price * 0.10\n",
    "\n",
    "print(\"Final ticket price:\", price)\n"
   ]
  },
  {
   "cell_type": "code",
   "execution_count": 33,
   "id": "4fdc7fae",
   "metadata": {},
   "outputs": [
    {
     "name": "stdout",
     "output_type": "stream",
     "text": [
      "432.0\n",
      "Final amount: 482.0\n"
     ]
    }
   ],
   "source": [
    "cart = float(input())\n",
    "print(cart)\n",
    "if cart > 500:\n",
    "    print(\"Final amount:\", cart)\n",
    "else:\n",
    "    print(\"Final amount:\", cart + 50)\n"
   ]
  },
  {
   "cell_type": "code",
   "execution_count": 34,
   "id": "4f95808b",
   "metadata": {},
   "outputs": [
    {
     "name": "stdout",
     "output_type": "stream",
     "text": [
      "Grade: B\n"
     ]
    }
   ],
   "source": [
    "marks = int(input())\n",
    "\n",
    "if marks >= 90:\n",
    "    print(\"Grade: A\")\n",
    "elif marks >= 75:\n",
    "    print(\"Grade: B\")\n",
    "elif marks >= 50:\n",
    "    print(\"Grade: C\")\n",
    "else:\n",
    "    print(\"Grade: Fail\")\n"
   ]
  },
  {
   "cell_type": "code",
   "execution_count": 35,
   "id": "ec10017f",
   "metadata": {},
   "outputs": [
    {
     "name": "stdout",
     "output_type": "stream",
     "text": [
      "Tip to be added: 65.0\n"
     ]
    }
   ],
   "source": [
    "bill = float(input())\n",
    "\n",
    "if bill < 500:\n",
    "    tip = bill * 0.05\n",
    "elif bill <= 1000:\n",
    "    tip = bill * 0.10\n",
    "else:\n",
    "    tip = bill * 0.15\n",
    "\n",
    "print(\"Tip to be added:\", tip)\n"
   ]
  },
  {
   "cell_type": "code",
   "execution_count": 37,
   "id": "c15f2329",
   "metadata": {},
   "outputs": [
    {
     "name": "stdout",
     "output_type": "stream",
     "text": [
      "Cost: ₹ 6500\n"
     ]
    }
   ],
   "source": [
    "months = int(input())\n",
    "\n",
    "if months == 1:\n",
    "    print(\"Cost: ₹500\")\n",
    "elif months == 6:\n",
    "    print(\"Cost: ₹2700\")\n",
    "elif months == 12:\n",
    "    print(\"Cost: ₹5000\")\n",
    "else:\n",
    "    print(\"Cost: ₹\", months * 500)\n"
   ]
  },
  {
   "cell_type": "code",
   "execution_count": 39,
   "id": "b844b176",
   "metadata": {},
   "outputs": [
    {
     "name": "stdout",
     "output_type": "stream",
     "text": [
      "90.9090909090909\n",
      "Eligible \n"
     ]
    }
   ],
   "source": [
    "total = int(input())\n",
    "attended = int(input())\n",
    "attendance = (attended / total) * 100\n",
    "print(attendance)\n",
    "if attendance >= 75:\n",
    "    print(\"Eligible \")\n",
    "else:\n",
    "    print(\"Not Eligible \")\n"
   ]
  },
  {
   "cell_type": "code",
   "execution_count": 40,
   "id": "2d9d24f3",
   "metadata": {},
   "outputs": [
    {
     "name": "stdout",
     "output_type": "stream",
     "text": [
      "Transaction Successful \n"
     ]
    }
   ],
   "source": [
    "amount = int(input())\n",
    "\n",
    "if amount % 100 == 0:\n",
    "    print(\"Transaction Successful \")\n",
    "else:\n",
    "    print(\"Transaction Failed \")\n"
   ]
  },
  {
   "cell_type": "code",
   "execution_count": 42,
   "id": "e364f76f",
   "metadata": {},
   "outputs": [
    {
     "name": "stdout",
     "output_type": "stream",
     "text": [
      "25\n",
      "Nice weather, go out!\n"
     ]
    }
   ],
   "source": [
    "temp = int(input())\n",
    "print(temp)\n",
    "if temp > 35:\n",
    "    print(\"Too hot, stay indoors!\")\n",
    "elif temp >= 20:\n",
    "    print(\"Nice weather, go out!\")\n",
    "else:\n",
    "    print(\"It’s cold, wear warm clothes!\")\n"
   ]
  },
  {
   "cell_type": "code",
   "execution_count": 43,
   "id": "f9e04a3b",
   "metadata": {},
   "outputs": [
    {
     "name": "stdout",
     "output_type": "stream",
     "text": [
      "7\n",
      "Fine amount: ₹ 50\n"
     ]
    }
   ],
   "source": [
    "days = int(input())\n",
    "print(days)\n",
    "if days <= 5:\n",
    "    fine = 10\n",
    "elif days <= 10:\n",
    "    fine = 50\n",
    "else:\n",
    "    fine = 100\n",
    "\n",
    "print(\"Fine amount: ₹\", fine)\n"
   ]
  },
  {
   "cell_type": "code",
   "execution_count": 45,
   "id": "7dc81258",
   "metadata": {},
   "outputs": [
    {
     "name": "stdout",
     "output_type": "stream",
     "text": [
      "300 units\n",
      "Bill amount: ₹ 2200\n"
     ]
    }
   ],
   "source": [
    "units = int(input())\n",
    "print(units,\"units\")\n",
    "if units <= 100:\n",
    "    bill = units * 5\n",
    "elif units <= 200:\n",
    "    bill = (100 * 5) + (units - 100) * 7\n",
    "else:\n",
    "    bill = (100 * 5) + (100 * 7) + (units - 200) * 10\n",
    "\n",
    "print(\"Bill amount: ₹\", bill)\n"
   ]
  },
  {
   "cell_type": "code",
   "execution_count": null,
   "id": "5f39b19c",
   "metadata": {},
   "outputs": [],
   "source": []
  }
 ],
 "metadata": {
  "kernelspec": {
   "display_name": "Python 3",
   "language": "python",
   "name": "python3"
  },
  "language_info": {
   "codemirror_mode": {
    "name": "ipython",
    "version": 3
   },
   "file_extension": ".py",
   "mimetype": "text/x-python",
   "name": "python",
   "nbconvert_exporter": "python",
   "pygments_lexer": "ipython3",
   "version": "3.11.0"
  }
 },
 "nbformat": 4,
 "nbformat_minor": 5
}
