{
 "cells": [
  {
   "cell_type": "code",
   "execution_count": 2,
   "id": "a9ee25c5",
   "metadata": {},
   "outputs": [
    {
     "name": "stdout",
     "output_type": "stream",
     "text": [
      "Total Bill = (50*2) + (30*5) + (20*3) = 100 + 150 + 60 = 310\n"
     ]
    }
   ],
   "source": [
    "item1_price,item1_qty=50,2\n",
    "item2_price,item2_qty=30,5\n",
    "item3_price,item3_qty=20,3\n",
    "total1 = item1_price * item1_qty\n",
    "total2 = item2_price * item2_qty\n",
    "total3 = item3_price * item3_qty\n",
    "total = total1 + total2 + total3\n",
    "print(f\"Total Bill = ({item1_price}*{item1_qty}) + ({item2_price}*{item2_qty}) + ({item3_price}*{item3_qty}) \"\n",
    "      f\"= {total1} + {total2} + {total3} = {total}\")"
   ]
  },
  {
   "cell_type": "code",
   "execution_count": null,
   "id": "37dcd680",
   "metadata": {},
   "outputs": [
    {
     "name": "stdout",
     "output_type": "stream",
     "text": [
      "Addition = 19\n",
      "Subtraction = 11\n",
      "Multiplication = 60\n",
      "Division = 3.75\n",
      "Modulus = 3\n"
     ]
    }
   ],
   "source": [
    "a = int(input(\"Enter first number:\"))\n",
    "b = int(input(\"Enter second number: \"))\n",
    "\n",
    "print(\"Addition =\", a + b)\n",
    "print(\"Subtraction =\", a - b)\n",
    "print(\"Multiplication =\", a * b)\n",
    "print(\"Division =\", a / b)\n",
    "print(\"Modulus =\", a % b)\n"
   ]
  },
  {
   "cell_type": "code",
   "execution_count": 5,
   "id": "9910263a",
   "metadata": {},
   "outputs": [
    {
     "name": "stdout",
     "output_type": "stream",
     "text": [
      "Grade: A (Excellent)\n"
     ]
    }
   ],
   "source": [
    "marks = int(input(\"Enter marks: \"))\n",
    "\n",
    "if marks >= 90:\n",
    "    grade = \"A+ (Excellent)\"\n",
    "elif marks >= 80:\n",
    "    grade = \"A (Excellent)\"\n",
    "elif marks >= 70:\n",
    "    grade = \"B (Good)\"\n",
    "elif marks >= 60:\n",
    "    grade = \"C (Average)\"\n",
    "else:\n",
    "    grade = \"Fail\"\n",
    "\n",
    "print(\"Grade:\", grade)\n"
   ]
  },
  {
   "cell_type": "code",
   "execution_count": 6,
   "id": "fb4328f6",
   "metadata": {},
   "outputs": [
    {
     "name": "stdout",
     "output_type": "stream",
     "text": [
      "Highest Marks = 90\n",
      "Lowest Marks = 45\n",
      "Average Marks = 71.4\n"
     ]
    }
   ],
   "source": [
    "marks = list(map(int, input(\"Enter marks separated by spaces: \").split()))\n",
    "\n",
    "highest = max(marks)\n",
    "lowest = min(marks)\n",
    "average = sum(marks) / len(marks)\n",
    "\n",
    "print(\"Highest Marks =\", highest)\n",
    "print(\"Lowest Marks =\", lowest)\n",
    "print(\"Average Marks =\", average)\n"
   ]
  },
  {
   "cell_type": "code",
   "execution_count": 7,
   "id": "46d0db67",
   "metadata": {},
   "outputs": [
    {
     "name": "stdout",
     "output_type": "stream",
     "text": [
      "Phone Number of Ravi: 9123456780\n"
     ]
    }
   ],
   "source": [
    "phonebook = {\"Suhel\": 9876543210, \"Ravi\": 9123456780, \"Anita\": 9988776655}\n",
    "\n",
    "name = input(\"Enter name to search: \")\n",
    "\n",
    "if name in phonebook:\n",
    "    print(\"Phone Number of\", name + \":\", phonebook[name])\n",
    "else:\n",
    "    print(\"Name not found in phonebook\")\n"
   ]
  },
  {
   "cell_type": "code",
   "execution_count": 20,
   "id": "4256bdc4",
   "metadata": {},
   "outputs": [
    {
     "name": "stdout",
     "output_type": "stream",
     "text": [
      "Total Words = 3\n",
      "Total Characters = 16\n",
      "Total Vowels = 6\n"
     ]
    }
   ],
   "source": [
    "sentence = input(\"Enter sentence: \").strip()\n",
    "\n",
    "if sentence == \"\":\n",
    "    print(\"No sentence entered!\")\n",
    "else:\n",
    "    words = sentence.split()\n",
    "    num_words = len(words)\n",
    "    num_chars = sum(1 for ch in sentence if ch != \" \") + 1  \n",
    "    vowels = \"aeiouAEIOU\"\n",
    "    num_vowels = sum(1 for ch in sentence if ch in vowels)\n",
    "\n",
    "    print(\"Total Words =\", num_words)\n",
    "    print(\"Total Characters =\", num_chars)\n",
    "    print(\"Total Vowels =\", num_vowels)\n"
   ]
  },
  {
   "cell_type": "code",
   "execution_count": 11,
   "id": "3677f361",
   "metadata": {},
   "outputs": [
    {
     "name": "stdout",
     "output_type": "stream",
     "text": [
      "Compound Interest = 512.5\n",
      "Total Amount = 5512.5\n"
     ]
    }
   ],
   "source": [
    "P = float(input(\"Enter Principal: \"))\n",
    "R = float(input(\"Enter Rate (%): \"))\n",
    "T = float(input(\"Enter Time (years): \"))\n",
    "itype = input(\"Enter Interest Type (Simple/Compound): \")\n",
    "\n",
    "if itype.lower() == \"simple\":\n",
    "    SI = (P * R * T) / 100\n",
    "    total = P + SI\n",
    "    print(\"Simple Interest =\", SI)\n",
    "    print(\"Total Amount =\", total)\n",
    "elif itype.lower() == \"compound\":\n",
    "    CI = P * ((1 + R/100) ** T - 1)\n",
    "    total = P + CI\n",
    "    print(\"Compound Interest =\", round(CI, 2))\n",
    "    print(\"Total Amount =\", round(total, 2))\n",
    "else:\n",
    "    print(\"Invalid Interest Type\")\n"
   ]
  },
  {
   "cell_type": "code",
   "execution_count": 12,
   "id": "20834d2d",
   "metadata": {},
   "outputs": [
    {
     "name": "stdout",
     "output_type": "stream",
     "text": [
      "Encrypted Message: KHOOR\n"
     ]
    }
   ],
   "source": [
    "message = input(\"Enter message: \")\n",
    "shift = int(input(\"Enter shift value: \"))\n",
    "\n",
    "encrypted = \"\"\n",
    "for ch in message:\n",
    "    if ch.isalpha():\n",
    "        base = 65 if ch.isupper() else 97\n",
    "        encrypted += chr((ord(ch) - base + shift) % 26 + base)\n",
    "    else:\n",
    "        encrypted += ch\n",
    "\n",
    "print(\"Encrypted Message:\", encrypted)\n"
   ]
  },
  {
   "cell_type": "code",
   "execution_count": 17,
   "id": "03a80a0d",
   "metadata": {},
   "outputs": [
    {
     "name": "stdout",
     "output_type": "stream",
     "text": [
      "PIN Verified.\n",
      "Withdrawal Successful. Remaining Balance = 3000\n"
     ]
    }
   ],
   "source": [
    "PIN = 1234\n",
    "balance = 5000\n",
    "\n",
    "pin_entered = int(input(\"Enter PIN: \"))\n",
    "\n",
    "if pin_entered == PIN:\n",
    "    print(\"PIN Verified.\")\n",
    "    withdraw = int(input(\"Enter amount to withdraw: \"))\n",
    "    if withdraw <= balance:\n",
    "        balance -= withdraw\n",
    "        print(\"Withdrawal Successful. Remaining Balance =\", balance)\n",
    "    else:\n",
    "        print(\"Insufficient Balance \")\n",
    "else:\n",
    "    print(\"Invalid PIN \")\n"
   ]
  },
  {
   "cell_type": "code",
   "execution_count": 19,
   "id": "cf88e478",
   "metadata": {},
   "outputs": [
    {
     "name": "stdout",
     "output_type": "stream",
     "text": [
      "Current Books: ['Python Basics', 'AI Fundamentals', 'Machine Learning']\n",
      "Total Books: 3\n"
     ]
    }
   ],
   "source": [
    "books = [\"Python Basics\", \"Data Science\", \"AI Fundamentals\"]\n",
    "add_book = input(\"Enter book to add: \")\n",
    "books.append(add_book)\n",
    "\n",
    "remove_book = input(\"Enter book to remove: \")\n",
    "if remove_book in books:\n",
    "    books.remove(remove_book)\n",
    "\n",
    "print(\"Current Books:\", books)\n",
    "print(\"Total Books:\", len(books))\n"
   ]
  },
  {
   "cell_type": "code",
   "execution_count": null,
   "id": "35d05226",
   "metadata": {},
   "outputs": [],
   "source": []
  }
 ],
 "metadata": {
  "kernelspec": {
   "display_name": "Python 3",
   "language": "python",
   "name": "python3"
  },
  "language_info": {
   "codemirror_mode": {
    "name": "ipython",
    "version": 3
   },
   "file_extension": ".py",
   "mimetype": "text/x-python",
   "name": "python",
   "nbconvert_exporter": "python",
   "pygments_lexer": "ipython3",
   "version": "3.11.0"
  }
 },
 "nbformat": 4,
 "nbformat_minor": 5
}
