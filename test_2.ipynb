{
 "cells": [
  {
   "cell_type": "code",
   "execution_count": 2,
   "id": "a9ee25c5",
   "metadata": {},
   "outputs": [
    {
     "name": "stdout",
     "output_type": "stream",
     "text": [
      "Total Bill = (50*2) + (30*5) + (20*3) = 100 + 150 + 60 = 310\n"
     ]
    }
   ],
   "source": [
    "item1_price,item1_qty=50,2\n",
    "item2_price,item2_qty=30,5\n",
    "item3_price,item3_qty=20,3\n",
    "total1 = item1_price * item1_qty\n",
    "total2 = item2_price * item2_qty\n",
    "total3 = item3_price * item3_qty\n",
    "total = total1 + total2 + total3\n",
    "print(f\"Total Bill = ({item1_price}*{item1_qty}) + ({item2_price}*{item2_qty}) + ({item3_price}*{item3_qty}) \"\n",
    "      f\"= {total1} + {total2} + {total3} = {total}\")"
   ]
  },
  {
   "cell_type": "code",
   "execution_count": null,
   "id": "37dcd680",
   "metadata": {},
   "outputs": [
    {
     "name": "stdout",
     "output_type": "stream",
     "text": [
      "Addition = 19\n",
      "Subtraction = 11\n",
      "Multiplication = 60\n",
      "Division = 3.75\n",
      "Modulus = 3\n"
     ]
    }
   ],
   "source": [
    "a = int(input(\"Enter first number:\"))\n",
    "b = int(input(\"Enter second number: \"))\n",
    "\n",
    "print(\"Addition =\", a + b)\n",
    "print(\"Subtraction =\", a - b)\n",
    "print(\"Multiplication =\", a * b)\n",
    "print(\"Division =\", a / b)\n",
    "print(\"Modulus =\", a % b)\n"
   ]
  },
  {
   "cell_type": "code",
   "execution_count": 5,
   "id": "9910263a",
   "metadata": {},
   "outputs": [
    {
     "name": "stdout",
     "output_type": "stream",
     "text": [
      "Grade: A (Excellent)\n"
     ]
    }
   ],
   "source": [
    "marks = int(input(\"Enter marks: \"))\n",
    "\n",
    "if marks >= 90:\n",
    "    grade = \"A+ (Excellent)\"\n",
    "elif marks >= 80:\n",
    "    grade = \"A (Excellent)\"\n",
    "elif marks >= 70:\n",
    "    grade = \"B (Good)\"\n",
    "elif marks >= 60:\n",
    "    grade = \"C (Average)\"\n",
    "else:\n",
    "    grade = \"Fail\"\n",
    "\n",
    "print(\"Grade:\", grade)\n"
   ]
  },
  {
   "cell_type": "code",
   "execution_count": 6,
   "id": "fb4328f6",
   "metadata": {},
   "outputs": [
    {
     "name": "stdout",
     "output_type": "stream",
     "text": [
      "Highest Marks = 90\n",
      "Lowest Marks = 45\n",
      "Average Marks = 71.4\n"
     ]
    }
   ],
   "source": [
    "marks = list(map(int, input(\"Enter marks separated by spaces: \").split()))\n",
    "\n",
    "highest = max(marks)\n",
    "lowest = min(marks)\n",
    "average = sum(marks) / len(marks)\n",
    "\n",
    "print(\"Highest Marks =\", highest)\n",
    "print(\"Lowest Marks =\", lowest)\n",
    "print(\"Average Marks =\", average)\n"
   ]
  },
  {
   "cell_type": "code",
   "execution_count": 7,
   "id": "46d0db67",
   "metadata": {},
   "outputs": [
    {
     "name": "stdout",
     "output_type": "stream",
     "text": [
      "Phone Number of Ravi: 9123456780\n"
     ]
    }
   ],
   "source": [
    "phonebook = {\"Suhel\": 9876543210, \"Ravi\": 9123456780, \"Anita\": 9988776655}\n",
    "\n",
    "name = input(\"Enter name to search: \")\n",
    "\n",
    "if name in phonebook:\n",
    "    print(\"Phone Number of\", name + \":\", phonebook[name])\n",
    "else:\n",
    "    print(\"Name not found in phonebook\")\n"
   ]
  },
  {
   "cell_type": "code",
   "execution_count": null,
   "id": "4256bdc4",
   "metadata": {},
   "outputs": [],
   "source": [
    "\n"
   ]
  }
 ],
 "metadata": {
  "kernelspec": {
   "display_name": "Python 3",
   "language": "python",
   "name": "python3"
  },
  "language_info": {
   "codemirror_mode": {
    "name": "ipython",
    "version": 3
   },
   "file_extension": ".py",
   "mimetype": "text/x-python",
   "name": "python",
   "nbconvert_exporter": "python",
   "pygments_lexer": "ipython3",
   "version": "3.11.0"
  }
 },
 "nbformat": 4,
 "nbformat_minor": 5
}
