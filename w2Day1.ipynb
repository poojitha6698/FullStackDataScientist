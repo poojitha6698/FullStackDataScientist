{
 "cells": [
  {
   "cell_type": "code",
   "execution_count": 2,
   "id": "04a83a7f",
   "metadata": {},
   "outputs": [
    {
     "name": "stdout",
     "output_type": "stream",
     "text": [
      "[2, 3, 5, 7, 11, 13, 17, 19]\n"
     ]
    }
   ],
   "source": [
    "def primes_up_to(n):\n",
    "    primes = []\n",
    "    for num in range(2, n+1):\n",
    "        for i in range(2, int(num**0.5)+1):\n",
    "            if num % i == 0:\n",
    "                break\n",
    "        else:\n",
    "            primes.append(num)\n",
    "    return primes\n",
    "m=int(input())\n",
    "print(primes_up_to(m))"
   ]
  },
  {
   "cell_type": "code",
   "execution_count": 4,
   "id": "40dc39df",
   "metadata": {},
   "outputs": [
    {
     "name": "stdout",
     "output_type": "stream",
     "text": [
      "Never Odd or even\n",
      "True\n"
     ]
    }
   ],
   "source": [
    "def is_palindrome(s):\n",
    "    s = ''.join(s.lower().split())\n",
    "    return s == s[::-1]\n",
    "n=input()\n",
    "print(n)\n",
    "print(is_palindrome(n)) \n"
   ]
  },
  {
   "cell_type": "code",
   "execution_count": 6,
   "id": "0d9ca37b",
   "metadata": {},
   "outputs": [
    {
     "name": "stdout",
     "output_type": "stream",
     "text": [
      "listen silent\n",
      "True\n"
     ]
    }
   ],
   "source": [
    "def is_anagram(w1, w2):\n",
    "    return sorted(w1.strip().lower()) == sorted(w2.strip().lower())\n",
    "\n",
    "x1 = input(\"Enter first word: \")\n",
    "x2 = input(\"Enter second word: \")\n",
    "\n",
    "print(x1, x2)\n",
    "print(is_anagram(x1, x2))\n"
   ]
  },
  {
   "cell_type": "code",
   "execution_count": 7,
   "id": "ad0df137",
   "metadata": {},
   "outputs": [
    {
     "name": "stdout",
     "output_type": "stream",
     "text": [
      "Vowels=2, Consonants=3\n"
     ]
    }
   ],
   "source": [
    "def count_vowels_consonants(word):\n",
    "    vowels = \"aeiou\"\n",
    "    v = c = 0\n",
    "    for ch in word.lower():\n",
    "        if ch.isalpha():\n",
    "            if ch in vowels:\n",
    "                v += 1\n",
    "            else:\n",
    "                c += 1\n",
    "    return f\"Vowels={v}, Consonants={c}\"\n",
    "\n",
    "n=input()\n",
    "print(count_vowels_consonants(n))  \n"
   ]
  },
  {
   "cell_type": "code",
   "execution_count": 9,
   "id": "55741550",
   "metadata": {},
   "outputs": [
    {
     "name": "stdout",
     "output_type": "stream",
     "text": [
      "Python  is amazing\n",
      "amazing\n"
     ]
    }
   ],
   "source": [
    "def longest_word(sentence):\n",
    "    words = sentence.split()\n",
    "    return max(words, key=len)\n",
    "s=input()\n",
    "print(s)\n",
    "print(longest_word(s))"
   ]
  },
  {
   "cell_type": "code",
   "execution_count": 11,
   "id": "0743b1fd",
   "metadata": {},
   "outputs": [
    {
     "name": "stdout",
     "output_type": "stream",
     "text": [
      ":TD'i=\n"
     ]
    }
   ],
   "source": [
    "import random, string\n",
    "\n",
    "def random_password(length=6):\n",
    "    chars = string.ascii_letters + string.digits + string.punctuation\n",
    "    return ''.join(random.choice(chars) for _ in range(length))\n",
    "\n",
    "print(random_password(6))\n"
   ]
  },
  {
   "cell_type": "code",
   "execution_count": 13,
   "id": "1da12b2a",
   "metadata": {},
   "outputs": [
    {
     "name": "stdout",
     "output_type": "stream",
     "text": [
      "Choose an operation:\n",
      "1. Square root\n",
      "2. Factorial\n",
      "3. Sine\n",
      "4. Cosine\n",
      "sqrt(25.0) = 5.0\n"
     ]
    }
   ],
   "source": [
    "import math\n",
    "\n",
    "print(\"Choose an operation:\")\n",
    "print(\"1. Square root\")\n",
    "print(\"2. Factorial\")\n",
    "print(\"3. Sine\")\n",
    "print(\"4. Cosine\")\n",
    "\n",
    "choice = int(input(\"Enter your choice (1-4): \"))\n",
    "\n",
    "if choice == 1:\n",
    "    num = float(input(\"Enter a number: \"))\n",
    "    print(f\"sqrt({num}) = {math.sqrt(num)}\")\n",
    "\n",
    "elif choice == 2:\n",
    "    num = int(input(\"Enter an integer: \"))\n",
    "    print(f\"factorial({num}) = {math.factorial(num)}\")\n",
    "\n",
    "elif choice == 3:\n",
    "    angle = float(input(\"Enter angle in degrees: \"))\n",
    "    radians = math.radians(angle)  \n",
    "    print(f\"sin({angle}°) = {math.sin(radians)}\")\n",
    "\n",
    "elif choice == 4:\n",
    "    angle = float(input(\"Enter angle in degrees: \"))\n",
    "    radians = math.radians(angle)\n",
    "    print(f\"cos({angle}°) = {math.cos(radians)}\")\n",
    "\n",
    "else:\n",
    "    print(\"Invalid choice!\")\n"
   ]
  },
  {
   "cell_type": "code",
   "execution_count": 14,
   "id": "da4a3221",
   "metadata": {},
   "outputs": [
    {
     "name": "stdout",
     "output_type": "stream",
     "text": [
      "cat dog cat\n",
      "{'cat': 2, 'dog': 1}\n"
     ]
    }
   ],
   "source": [
    "from collections import Counter\n",
    "\n",
    "def word_frequency(text):\n",
    "    return dict(Counter(text.split()))\n",
    "\n",
    "m=input()\n",
    "print(m)\n",
    "print(word_frequency(m))  \n"
   ]
  },
  {
   "cell_type": "code",
   "execution_count": 17,
   "id": "0e20580e",
   "metadata": {},
   "outputs": [
    {
     "name": "stdout",
     "output_type": "stream",
     "text": [
      "Weather: Windy, Temp: 34°C\n"
     ]
    }
   ],
   "source": [
    "import random\n",
    "\n",
    "def weather_simulator():\n",
    "    weather = random.choice([\"Sunny\", \"Cloudy\", \"Rainy\", \"Windy\"])\n",
    "    temp = random.randint(20, 40)\n",
    "    return f\"Weather: {weather}, Temp: {temp}°C\"\n",
    "\n",
    "print(weather_simulator())\n"
   ]
  },
  {
   "cell_type": "code",
   "execution_count": 18,
   "id": "00b1bdc2",
   "metadata": {},
   "outputs": [
    {
     "name": "stdout",
     "output_type": "stream",
     "text": [
      "5\n",
      "4\n",
      "3\n",
      "2\n",
      "1\n",
      "Time’s up!\n"
     ]
    }
   ],
   "source": [
    "import time\n",
    "\n",
    "def countdown(n):\n",
    "    while n > 0:\n",
    "        print(n)\n",
    "        time.sleep(1)\n",
    "        n -= 1\n",
    "    print(\"Time’s up!\")\n",
    "x=int(input())\n",
    "countdown(x)\n"
   ]
  },
  {
   "cell_type": "code",
   "execution_count": 20,
   "id": "d065f891",
   "metadata": {},
   "outputs": [
    {
     "name": "stdout",
     "output_type": "stream",
     "text": [
      "Balance: 120\n"
     ]
    }
   ],
   "source": [
    "class BankAccount:\n",
    "    def __init__(self,balance=0,owner=\"Unknown\"):\n",
    "        self.balance=balance\n",
    "        self.owner=owner\n",
    "    def deposit(self,amount):\n",
    "        self.balance+=amount\n",
    "    def withdraw(self,amount):\n",
    "        if amount<self.balance:\n",
    "            self.balance-=amount\n",
    "        else:\n",
    "            print(\"Insufficient Funds\")\n",
    "    def get_balance(self):\n",
    "        return f\"Balance: {self.balance}\"\n",
    "acc = BankAccount(100,\"John\")\n",
    "acc.deposit(50)\n",
    "acc.withdraw(30)\n",
    "print(acc.get_balance()) "
   ]
  },
  {
   "cell_type": "code",
   "execution_count": 23,
   "id": "199d13f2",
   "metadata": {},
   "outputs": [
    {
     "name": "stdout",
     "output_type": "stream",
     "text": [
      "85.0\n",
      "95\n"
     ]
    }
   ],
   "source": [
    "class Student:\n",
    "    def __init__(self,name,marks):\n",
    "        self.name=name\n",
    "        self.marks=marks\n",
    "    def get_average(self):\n",
    "        return sum(self.marks)/len(self.marks)\n",
    "    def add_mark(self,mark):\n",
    "        self.marks.append(mark)\n",
    "    def get_highest(self):\n",
    "        return max(self.marks)\n",
    "    def get_lowest(self):\n",
    "        return min(self.marks)\n",
    "s = Student(\"Tom\", [90, 80, 85])\n",
    "print(s.get_average())   \n",
    "s.add_mark(95)\n",
    "print(s.get_highest())\n"
   ]
  },
  {
   "cell_type": "code",
   "execution_count": 25,
   "id": "7ff68314",
   "metadata": {},
   "outputs": [
    {
     "name": "stdout",
     "output_type": "stream",
     "text": [
      "10000.0\n"
     ]
    }
   ],
   "source": [
    "class Employee:\n",
    "    def __init__(self, name, salary, role):\n",
    "        self.name = name\n",
    "        self.salary = salary\n",
    "        self.role = role\n",
    "    \n",
    "    def bonus(self):\n",
    "        if self.role.lower() == \"manager\":\n",
    "            return 0.2 * self.salary\n",
    "        elif self.role.lower() == \"developer\":\n",
    "            return 0.1 * self.salary\n",
    "        elif self.role.lower() == \"intern\":\n",
    "            return 0.05 * self.salary\n",
    "        return 0\n",
    "\n",
    "m = Employee(\"Alice\", 50000, \"Manager\")\n",
    "print(m.bonus())  \n"
   ]
  },
  {
   "cell_type": "code",
   "execution_count": 26,
   "id": "5d016a4e",
   "metadata": {},
   "outputs": [
    {
     "name": "stdout",
     "output_type": "stream",
     "text": [
      "153.94\n",
      "20\n"
     ]
    }
   ],
   "source": [
    "import math\n",
    "\n",
    "class Shape:\n",
    "    def __init__(self, name):\n",
    "        self.name = name\n",
    "    \n",
    "    def area(self):\n",
    "        pass\n",
    "\n",
    "class Circle(Shape):\n",
    "    def __init__(self, radius):\n",
    "        super().__init__(\"Circle\")\n",
    "        self.radius = radius\n",
    "    \n",
    "    def area(self):\n",
    "        return round(math.pi * self.radius**2, 2)\n",
    "\n",
    "class Rectangle(Shape):\n",
    "    def __init__(self, width, height):\n",
    "        super().__init__(\"Rectangle\")\n",
    "        self.width = width\n",
    "        self.height = height\n",
    "    \n",
    "    def area(self):\n",
    "        return self.width * self.height\n",
    "\n",
    "c = Circle(7)\n",
    "print(c.area())  \n",
    "r = Rectangle(4, 5)\n",
    "print(r.area())  \n"
   ]
  },
  {
   "cell_type": "code",
   "execution_count": 27,
   "id": "274a2369",
   "metadata": {},
   "outputs": [
    {
     "name": "stdout",
     "output_type": "stream",
     "text": [
      "Total = 2000\n",
      "{'Shirt': 500, 'Shoes': 1500}\n"
     ]
    }
   ],
   "source": [
    "class Order:\n",
    "    def __init__(self):\n",
    "        self.items={}\n",
    "    def add(self,item,price):\n",
    "        self.items[item]=price\n",
    "    def remove(self,item):\n",
    "        if item in self.items:\n",
    "            del self.items[item]\n",
    "    def calculate_total(self):\n",
    "        return f\"Total = {sum(self.items.values())}\"\n",
    "    \n",
    "    def show_items(self):\n",
    "        return self.items\n",
    "order = Order()\n",
    "order.add(\"Shirt\", 500)\n",
    "order.add(\"Shoes\", 1500)\n",
    "print(order.calculate_total()) \n",
    "print(order.show_items())"
   ]
  },
  {
   "cell_type": "code",
   "execution_count": 1,
   "id": "a375be13",
   "metadata": {},
   "outputs": [
    {
     "name": "stdout",
     "output_type": "stream",
     "text": [
      "Fibonacci series (7 terms): [0, 1, 1, 2, 3, 5, 8]\n"
     ]
    }
   ],
   "source": [
    "def fibonacci(n):\n",
    "    fib=[0,1]\n",
    "    for i in range(2,n):\n",
    "        fib.append(fib[-1]+fib[-2])\n",
    "    return fib[:n]\n",
    "num = int(input(\"Enter how many Fibonacci numbers you want: \"))\n",
    "print(f\"Fibonacci series ({num} terms):\", fibonacci(num))\n"
   ]
  },
  {
   "cell_type": "code",
   "execution_count": null,
   "id": "6cf36f11",
   "metadata": {},
   "outputs": [
    {
     "name": "stdout",
     "output_type": "stream",
     "text": [
      "120\n"
     ]
    }
   ],
   "source": [
    "def factorial(n):\n",
    "    if n==0 or n==1:\n",
    "        return 1\n",
    "    return n*factorial(n-1)\n",
    "x=int(input())\n",
    "print(factorial(x))"
   ]
  },
  {
   "cell_type": "code",
   "execution_count": 3,
   "id": "2ad06bb4",
   "metadata": {},
   "outputs": [
    {
     "name": "stdout",
     "output_type": "stream",
     "text": [
      "apple banana apple orange banana\n",
      "{'apple': 2, 'banana': 2, 'orange': 1}\n"
     ]
    }
   ],
   "source": [
    "def unique_word_count(sentence):\n",
    "    words=sentence.split()\n",
    "    count={}\n",
    "    for word in words:\n",
    "        count[word]=count.get(word,0)+1\n",
    "\n",
    "    return count\n",
    "n=input()\n",
    "print(n)\n",
    "print(unique_word_count(n))"
   ]
  },
  {
   "cell_type": "code",
   "execution_count": 9,
   "id": "7444137e",
   "metadata": {},
   "outputs": [
    {
     "name": "stdout",
     "output_type": "stream",
     "text": [
      "[85, 90, 78]\n",
      "Grade:A\n"
     ]
    }
   ],
   "source": [
    "def grade_calculator(marks):\n",
    "    avg=sum(marks)/len(marks)\n",
    "    if avg>=90:\n",
    "        return \"Grade:A+\"\n",
    "    elif avg>=80:\n",
    "        return \"Grade:A\"\n",
    "    elif avg>=70:\n",
    "        return \"Grade:B\"\n",
    "    elif avg>=60:\n",
    "        return \"Grade:C\"\n",
    "    else:\n",
    "        return \"Grade:F\"\n",
    "x = list(map(int, input(\"Enter marks separated by space: \").split()))\n",
    "print(x)\n",
    "print(grade_calculator(x))"
   ]
  },
  {
   "cell_type": "code",
   "execution_count": 10,
   "id": "3f408d04",
   "metadata": {},
   "outputs": [
    {
     "name": "stdout",
     "output_type": "stream",
     "text": [
      "[10, 5, 20, 8]\n",
      "10\n"
     ]
    }
   ],
   "source": [
    "def second_largest(nums):\n",
    "    unique_nums=list(set(nums))\n",
    "    unique_nums.sort(reverse=True)\n",
    "    if len(unique_nums)<2:\n",
    "        return None\n",
    "    return unique_nums[1]\n",
    "x = list(map(int, input(\"Enter list separated by space: \").split()))\n",
    "print(x)\n",
    "print(second_largest(x))"
   ]
  },
  {
   "cell_type": "code",
   "execution_count": 13,
   "id": "0b19108e",
   "metadata": {},
   "outputs": [
    {
     "name": "stdout",
     "output_type": "stream",
     "text": [
      "Text files: 1\n",
      "Python files: 0\n"
     ]
    }
   ],
   "source": [
    "import os\n",
    "\n",
    "def count_files_by_extension(path=\".\"):\n",
    "    txt_count = 0\n",
    "    py_count = 0\n",
    "    for file in os.listdir(path):\n",
    "        if file.endswith(\".txt\"):\n",
    "            txt_count += 1\n",
    "        elif file.endswith(\".py\"):\n",
    "            py_count += 1\n",
    "    return f\"Text files: {txt_count}\\nPython files: {py_count}\"\n",
    "\n",
    "\n",
    "print(count_files_by_extension())\n"
   ]
  },
  {
   "cell_type": "code",
   "execution_count": 14,
   "id": "1bce675e",
   "metadata": {},
   "outputs": [
    {
     "name": "stdout",
     "output_type": "stream",
     "text": [
      "[75, 80, 90, 100, 85, 90, 95]\n",
      "Mean = 87.86\n",
      "Median = 90\n",
      "Variance = 73.81\n"
     ]
    }
   ],
   "source": [
    "import statistics\n",
    "def exam_score_analysis(scores):\n",
    "    mean = statistics.mean(scores)\n",
    "    median = statistics.median(scores)\n",
    "    variance = statistics.variance(scores)\n",
    "    return f\"Mean = {mean:.2f}\\nMedian = {median}\\nVariance = {variance:.2f}\"\n",
    "scores=list(map(int, input(\"Enter list separated by space: \").split()))\n",
    "print(scores)\n",
    "print(exam_score_analysis(scores))\n"
   ]
  },
  {
   "cell_type": "code",
   "execution_count": 18,
   "id": "9d9f48b1",
   "metadata": {},
   "outputs": [
    {
     "name": "stdout",
     "output_type": "stream",
     "text": [
      "a=1,b=-3,c=2\n",
      "Roots are: 2.0 and 1.0\n"
     ]
    }
   ],
   "source": [
    "import math\n",
    "def quadratic_solver(a,b,c):\n",
    "    discriminant=b**2-4*a*c\n",
    "    if discriminant<0:\n",
    "        return \"No Real Roots\"\n",
    "    root1=(-b+math.sqrt(discriminant))/(2*a)\n",
    "    root2=(-b-math.sqrt(discriminant))/(2*a)\n",
    "    return f\"Roots are: {root1} and {root2}\"\n",
    "a=int(input())\n",
    "b=int(input())\n",
    "c=int(input())\n",
    "print(f\"a={a},b={b},c={c}\")\n",
    "print(quadratic_solver(a,b,c))"
   ]
  },
  {
   "cell_type": "code",
   "execution_count": 19,
   "id": "532bd4b2",
   "metadata": {},
   "outputs": [
    {
     "name": "stdout",
     "output_type": "stream",
     "text": [
      "Rock\n",
      "You chose Rock, Computer chose Scissors\n",
      "You Win!\n"
     ]
    }
   ],
   "source": [
    "import random\n",
    "\n",
    "def rock_paper_scissors(user_choice):\n",
    "    choices = [\"Rock\", \"Paper\", \"Scissors\"]\n",
    "    computer_choice = random.choice(choices)\n",
    "\n",
    "    if user_choice == computer_choice:\n",
    "        result = \"It's a Tie!\"\n",
    "    elif (user_choice == \"Rock\" and computer_choice == \"Scissors\") or \\\n",
    "         (user_choice == \"Scissors\" and computer_choice == \"Paper\") or \\\n",
    "         (user_choice == \"Paper\" and computer_choice == \"Rock\"):\n",
    "        result = \"You Win!\"\n",
    "    else:\n",
    "        result = \"Computer Wins!\"\n",
    "\n",
    "    return f\"You chose {user_choice}, Computer chose {computer_choice}\\n{result}\"\n",
    "x=input()\n",
    "print(x)\n",
    "print(rock_paper_scissors(x))\n"
   ]
  },
  {
   "cell_type": "code",
   "execution_count": 21,
   "id": "eb276108",
   "metadata": {},
   "outputs": [
    {
     "name": "stdout",
     "output_type": "stream",
     "text": [
      "Sum = 30\n"
     ]
    }
   ],
   "source": [
    "import sys\n",
    "\n",
    "def sum_from_command_line():\n",
    "    if len(sys.argv) != 4:\n",
    "        print(\"Usage: python add.py num1 num2 num3\")\n",
    "        return\n",
    "    nums = list(map(int, sys.argv[1:]))\n",
    "    print(\"Sum =\", sum(nums))\n",
    "\n",
    "sys.argv = [\"add.py\", \"5\", \"10\", \"15\"]\n",
    "\n",
    "sum_from_command_line()\n"
   ]
  },
  {
   "cell_type": "code",
   "execution_count": 23,
   "id": "57c04631",
   "metadata": {},
   "outputs": [
    {
     "name": "stdout",
     "output_type": "stream",
     "text": [
      "You borrowed Python 101\n",
      "You returned Python 101\n",
      "Available books: {'Python 101': 3, 'Data Science': 2}\n"
     ]
    }
   ],
   "source": [
    "class Library:\n",
    "    def __init__(self, books):\n",
    "        self.books = books\n",
    "\n",
    "    def borrow(self, title):\n",
    "        if title in self.books and self.books[title] > 0:\n",
    "            self.books[title] -= 1\n",
    "            return f\"You borrowed {title}\"\n",
    "        return f\"Sorry, {title} is not available\"\n",
    "\n",
    "    def return_book(self, title):\n",
    "        if title in self.books:\n",
    "            self.books[title] += 1\n",
    "            return f\"You returned {title}\"\n",
    "        return f\"{title} does not belong to this library\"\n",
    "\n",
    "    def show_books(self):\n",
    "        print(\"Available books:\", self.books)\n",
    "\n",
    "\n",
    "lib = Library({\"Python 101\": 3, \"Data Science\": 2})\n",
    "print(lib.borrow(\"Python 101\"))\n",
    "print(lib.return_book(\"Python 101\"))\n",
    "lib.show_books()\n"
   ]
  },
  {
   "cell_type": "code",
   "execution_count": 24,
   "id": "0289c4df",
   "metadata": {},
   "outputs": [
    {
     "name": "stdout",
     "output_type": "stream",
     "text": [
      "Access Granted\n",
      "Deposited 200\n",
      "Withdrew 100\n",
      "Balance: 600\n"
     ]
    }
   ],
   "source": [
    "class ATM:\n",
    "    def __init__(self, pin, balance=0):\n",
    "        self.pin = pin\n",
    "        self.balance = balance\n",
    "        self.is_authenticated = False\n",
    "\n",
    "    def login(self, entered_pin):\n",
    "        if entered_pin == self.pin:\n",
    "            self.is_authenticated = True\n",
    "            return \"Access Granted\"\n",
    "        return \"Invalid PIN\"\n",
    "\n",
    "    def check_balance(self):\n",
    "        if self.is_authenticated:\n",
    "            return f\"Balance: {self.balance}\"\n",
    "        return \"Please login first\"\n",
    "\n",
    "    def deposit(self, amount):\n",
    "        if self.is_authenticated:\n",
    "            self.balance += amount\n",
    "            return f\"Deposited {amount}\"\n",
    "        return \"Please login first\"\n",
    "\n",
    "    def withdraw(self, amount):\n",
    "        if self.is_authenticated:\n",
    "            if amount <= self.balance:\n",
    "                self.balance -= amount\n",
    "                return f\"Withdrew {amount}\"\n",
    "            return \"Insufficient funds\"\n",
    "        return \"Please login first\"\n",
    "\n",
    "atm = ATM(1234, 500)\n",
    "print(atm.login(1234))\n",
    "print(atm.deposit(200))\n",
    "print(atm.withdraw(100))\n",
    "print(atm.check_balance())\n"
   ]
  },
  {
   "cell_type": "code",
   "execution_count": 25,
   "id": "4b1819ca",
   "metadata": {},
   "outputs": [
    {
     "name": "stdout",
     "output_type": "stream",
     "text": [
      "Dr. Smith is teaching Python\n",
      "Alice enrolled in Python\n",
      "Dr. Smith assigned: Project 1\n",
      "Alice submitted: Project 1\n"
     ]
    }
   ],
   "source": [
    "class Professor:\n",
    "    def __init__(self, name, subject):\n",
    "        self.name = name\n",
    "        self.subject = subject\n",
    "\n",
    "    def teach(self, course):\n",
    "        return f\"{self.name} is teaching {course}\"\n",
    "\n",
    "    def give_assignment(self, task):\n",
    "        return f\"{self.name} assigned: {task}\"\n",
    "\n",
    "\n",
    "class Student:\n",
    "    def __init__(self, name):\n",
    "        self.name = name\n",
    "        self.courses = []\n",
    "        self.assignments = []\n",
    "\n",
    "    def enroll(self, course):\n",
    "        self.courses.append(course)\n",
    "        return f\"{self.name} enrolled in {course}\"\n",
    "\n",
    "    def submit_assignment(self, task):\n",
    "        self.assignments.append(task)\n",
    "        return f\"{self.name} submitted: {task}\"\n",
    "\n",
    "prof = Professor(\"Dr. Smith\", \"Computer Science\")\n",
    "stud = Student(\"Alice\")\n",
    "print(prof.teach(\"Python\"))\n",
    "print(stud.enroll(\"Python\"))\n",
    "print(prof.give_assignment(\"Project 1\"))\n",
    "print(stud.submit_assignment(\"Project 1\"))\n"
   ]
  },
  {
   "cell_type": "code",
   "execution_count": 26,
   "id": "77406d57",
   "metadata": {},
   "outputs": [
    {
     "name": "stdout",
     "output_type": "stream",
     "text": [
      "Booked 2 tickets for Avatar\n",
      "Cancelled 1 tickets for Avatar\n",
      "Movies: {'Avatar': 9, 'Batman': 5}\n"
     ]
    }
   ],
   "source": [
    "class Cinema:\n",
    "    def __init__(self, movies):\n",
    "        self.movies = movies\n",
    "\n",
    "    def book(self, movie, seats):\n",
    "        if movie in self.movies and self.movies[movie] >= seats:\n",
    "            self.movies[movie] -= seats\n",
    "            return f\"Booked {seats} tickets for {movie}\"\n",
    "        return \"Booking failed. Not enough seats or movie not available.\"\n",
    "\n",
    "    def cancel(self, movie, seats):\n",
    "        if movie in self.movies:\n",
    "            self.movies[movie] += seats\n",
    "            return f\"Cancelled {seats} tickets for {movie}\"\n",
    "        return f\"{movie} not found\"\n",
    "\n",
    "    def show_movies(self):\n",
    "        print(\"Movies:\", self.movies)\n",
    "\n",
    "cinema = Cinema({\"Avatar\": 10, \"Batman\": 5})\n",
    "print(cinema.book(\"Avatar\", 2))\n",
    "print(cinema.cancel(\"Avatar\", 1))\n",
    "cinema.show_movies()\n"
   ]
  },
  {
   "cell_type": "code",
   "execution_count": 27,
   "id": "d8d932e3",
   "metadata": {},
   "outputs": [
    {
     "name": "stdout",
     "output_type": "stream",
     "text": [
      "Burger added\n",
      "Pizza added\n",
      "Pizza price updated to 250\n",
      "Burger removed\n",
      "Menu: {'Pizza': 250}\n"
     ]
    }
   ],
   "source": [
    "class Menu:\n",
    "    def __init__(self):\n",
    "        self.items = {}\n",
    "\n",
    "    def add_item(self, name, price):\n",
    "        self.items[name] = price\n",
    "        return f\"{name} added\"\n",
    "\n",
    "    def remove_item(self, name):\n",
    "        if name in self.items:\n",
    "            del self.items[name]\n",
    "            return f\"{name} removed\"\n",
    "        return f\"{name} not found\"\n",
    "\n",
    "    def update_price(self, name, new_price):\n",
    "        if name in self.items:\n",
    "            self.items[name] = new_price\n",
    "            return f\"{name} price updated to {new_price}\"\n",
    "        return f\"{name} not found\"\n",
    "\n",
    "    def show_menu(self):\n",
    "        print(\"Menu:\", self.items)\n",
    "        \n",
    "menu = Menu()\n",
    "print(menu.add_item(\"Burger\", 100))\n",
    "print(menu.add_item(\"Pizza\", 200))\n",
    "print(menu.update_price(\"Pizza\", 250))\n",
    "print(menu.remove_item(\"Burger\"))\n",
    "menu.show_menu()\n"
   ]
  },
  {
   "cell_type": "code",
   "execution_count": null,
   "id": "6f4ec806",
   "metadata": {},
   "outputs": [],
   "source": []
  }
 ],
 "metadata": {
  "kernelspec": {
   "display_name": "Python 3",
   "language": "python",
   "name": "python3"
  },
  "language_info": {
   "codemirror_mode": {
    "name": "ipython",
    "version": 3
   },
   "file_extension": ".py",
   "mimetype": "text/x-python",
   "name": "python",
   "nbconvert_exporter": "python",
   "pygments_lexer": "ipython3",
   "version": "3.11.0"
  }
 },
 "nbformat": 4,
 "nbformat_minor": 5
}
