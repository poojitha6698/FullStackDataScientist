{
 "cells": [
  {
   "cell_type": "code",
   "execution_count": 2,
   "id": "04a83a7f",
   "metadata": {},
   "outputs": [
    {
     "name": "stdout",
     "output_type": "stream",
     "text": [
      "[2, 3, 5, 7, 11, 13, 17, 19]\n"
     ]
    }
   ],
   "source": [
    "def primes_up_to(n):\n",
    "    primes = []\n",
    "    for num in range(2, n+1):\n",
    "        for i in range(2, int(num**0.5)+1):\n",
    "            if num % i == 0:\n",
    "                break\n",
    "        else:\n",
    "            primes.append(num)\n",
    "    return primes\n",
    "m=int(input())\n",
    "print(primes_up_to(m))"
   ]
  },
  {
   "cell_type": "code",
   "execution_count": 4,
   "id": "40dc39df",
   "metadata": {},
   "outputs": [
    {
     "name": "stdout",
     "output_type": "stream",
     "text": [
      "Never Odd or even\n",
      "True\n"
     ]
    }
   ],
   "source": [
    "def is_palindrome(s):\n",
    "    s = ''.join(s.lower().split())\n",
    "    return s == s[::-1]\n",
    "n=input()\n",
    "print(n)\n",
    "print(is_palindrome(n)) \n"
   ]
  },
  {
   "cell_type": "code",
   "execution_count": 6,
   "id": "0d9ca37b",
   "metadata": {},
   "outputs": [
    {
     "name": "stdout",
     "output_type": "stream",
     "text": [
      "listen silent\n",
      "True\n"
     ]
    }
   ],
   "source": [
    "def is_anagram(w1, w2):\n",
    "    return sorted(w1.strip().lower()) == sorted(w2.strip().lower())\n",
    "\n",
    "x1 = input(\"Enter first word: \")\n",
    "x2 = input(\"Enter second word: \")\n",
    "\n",
    "print(x1, x2)\n",
    "print(is_anagram(x1, x2))\n"
   ]
  },
  {
   "cell_type": "code",
   "execution_count": 7,
   "id": "ad0df137",
   "metadata": {},
   "outputs": [
    {
     "name": "stdout",
     "output_type": "stream",
     "text": [
      "Vowels=2, Consonants=3\n"
     ]
    }
   ],
   "source": [
    "def count_vowels_consonants(word):\n",
    "    vowels = \"aeiou\"\n",
    "    v = c = 0\n",
    "    for ch in word.lower():\n",
    "        if ch.isalpha():\n",
    "            if ch in vowels:\n",
    "                v += 1\n",
    "            else:\n",
    "                c += 1\n",
    "    return f\"Vowels={v}, Consonants={c}\"\n",
    "\n",
    "n=input()\n",
    "print(count_vowels_consonants(n))  \n"
   ]
  },
  {
   "cell_type": "code",
   "execution_count": 9,
   "id": "55741550",
   "metadata": {},
   "outputs": [
    {
     "name": "stdout",
     "output_type": "stream",
     "text": [
      "Python  is amazing\n",
      "amazing\n"
     ]
    }
   ],
   "source": [
    "def longest_word(sentence):\n",
    "    words = sentence.split()\n",
    "    return max(words, key=len)\n",
    "s=input()\n",
    "print(s)\n",
    "print(longest_word(s))"
   ]
  },
  {
   "cell_type": "code",
   "execution_count": 11,
   "id": "0743b1fd",
   "metadata": {},
   "outputs": [
    {
     "name": "stdout",
     "output_type": "stream",
     "text": [
      ":TD'i=\n"
     ]
    }
   ],
   "source": [
    "import random, string\n",
    "\n",
    "def random_password(length=6):\n",
    "    chars = string.ascii_letters + string.digits + string.punctuation\n",
    "    return ''.join(random.choice(chars) for _ in range(length))\n",
    "\n",
    "print(random_password(6))\n"
   ]
  },
  {
   "cell_type": "code",
   "execution_count": 13,
   "id": "1da12b2a",
   "metadata": {},
   "outputs": [
    {
     "name": "stdout",
     "output_type": "stream",
     "text": [
      "Choose an operation:\n",
      "1. Square root\n",
      "2. Factorial\n",
      "3. Sine\n",
      "4. Cosine\n",
      "sqrt(25.0) = 5.0\n"
     ]
    }
   ],
   "source": [
    "import math\n",
    "\n",
    "print(\"Choose an operation:\")\n",
    "print(\"1. Square root\")\n",
    "print(\"2. Factorial\")\n",
    "print(\"3. Sine\")\n",
    "print(\"4. Cosine\")\n",
    "\n",
    "choice = int(input(\"Enter your choice (1-4): \"))\n",
    "\n",
    "if choice == 1:\n",
    "    num = float(input(\"Enter a number: \"))\n",
    "    print(f\"sqrt({num}) = {math.sqrt(num)}\")\n",
    "\n",
    "elif choice == 2:\n",
    "    num = int(input(\"Enter an integer: \"))\n",
    "    print(f\"factorial({num}) = {math.factorial(num)}\")\n",
    "\n",
    "elif choice == 3:\n",
    "    angle = float(input(\"Enter angle in degrees: \"))\n",
    "    radians = math.radians(angle)  \n",
    "    print(f\"sin({angle}°) = {math.sin(radians)}\")\n",
    "\n",
    "elif choice == 4:\n",
    "    angle = float(input(\"Enter angle in degrees: \"))\n",
    "    radians = math.radians(angle)\n",
    "    print(f\"cos({angle}°) = {math.cos(radians)}\")\n",
    "\n",
    "else:\n",
    "    print(\"Invalid choice!\")\n"
   ]
  },
  {
   "cell_type": "code",
   "execution_count": 14,
   "id": "da4a3221",
   "metadata": {},
   "outputs": [
    {
     "name": "stdout",
     "output_type": "stream",
     "text": [
      "cat dog cat\n",
      "{'cat': 2, 'dog': 1}\n"
     ]
    }
   ],
   "source": [
    "from collections import Counter\n",
    "\n",
    "def word_frequency(text):\n",
    "    return dict(Counter(text.split()))\n",
    "\n",
    "m=input()\n",
    "print(m)\n",
    "print(word_frequency(m))  \n"
   ]
  },
  {
   "cell_type": "code",
   "execution_count": 17,
   "id": "0e20580e",
   "metadata": {},
   "outputs": [
    {
     "name": "stdout",
     "output_type": "stream",
     "text": [
      "Weather: Windy, Temp: 34°C\n"
     ]
    }
   ],
   "source": [
    "import random\n",
    "\n",
    "def weather_simulator():\n",
    "    weather = random.choice([\"Sunny\", \"Cloudy\", \"Rainy\", \"Windy\"])\n",
    "    temp = random.randint(20, 40)\n",
    "    return f\"Weather: {weather}, Temp: {temp}°C\"\n",
    "\n",
    "print(weather_simulator())\n"
   ]
  },
  {
   "cell_type": "code",
   "execution_count": 18,
   "id": "00b1bdc2",
   "metadata": {},
   "outputs": [
    {
     "name": "stdout",
     "output_type": "stream",
     "text": [
      "5\n",
      "4\n",
      "3\n",
      "2\n",
      "1\n",
      "Time’s up!\n"
     ]
    }
   ],
   "source": [
    "import time\n",
    "\n",
    "def countdown(n):\n",
    "    while n > 0:\n",
    "        print(n)\n",
    "        time.sleep(1)\n",
    "        n -= 1\n",
    "    print(\"Time’s up!\")\n",
    "x=int(input())\n",
    "countdown(x)\n"
   ]
  },
  {
   "cell_type": "code",
   "execution_count": 20,
   "id": "d065f891",
   "metadata": {},
   "outputs": [
    {
     "name": "stdout",
     "output_type": "stream",
     "text": [
      "Balance: 120\n"
     ]
    }
   ],
   "source": [
    "class BankAccount:\n",
    "    def __init__(self,balance=0,owner=\"Unknown\"):\n",
    "        self.balance=balance\n",
    "        self.owner=owner\n",
    "    def deposit(self,amount):\n",
    "        self.balance+=amount\n",
    "    def withdraw(self,amount):\n",
    "        if amount<self.balance:\n",
    "            self.balance-=amount\n",
    "        else:\n",
    "            print(\"Insufficient Funds\")\n",
    "    def get_balance(self):\n",
    "        return f\"Balance: {self.balance}\"\n",
    "acc = BankAccount(100,\"John\")\n",
    "acc.deposit(50)\n",
    "acc.withdraw(30)\n",
    "print(acc.get_balance()) "
   ]
  },
  {
   "cell_type": "code",
   "execution_count": 23,
   "id": "199d13f2",
   "metadata": {},
   "outputs": [
    {
     "name": "stdout",
     "output_type": "stream",
     "text": [
      "85.0\n",
      "95\n"
     ]
    }
   ],
   "source": [
    "class Student:\n",
    "    def __init__(self,name,marks):\n",
    "        self.name=name\n",
    "        self.marks=marks\n",
    "    def get_average(self):\n",
    "        return sum(self.marks)/len(self.marks)\n",
    "    def add_mark(self,mark):\n",
    "        self.marks.append(mark)\n",
    "    def get_highest(self):\n",
    "        return max(self.marks)\n",
    "    def get_lowest(self):\n",
    "        return min(self.marks)\n",
    "s = Student(\"Tom\", [90, 80, 85])\n",
    "print(s.get_average())   \n",
    "s.add_mark(95)\n",
    "print(s.get_highest())\n"
   ]
  },
  {
   "cell_type": "code",
   "execution_count": 25,
   "id": "7ff68314",
   "metadata": {},
   "outputs": [
    {
     "name": "stdout",
     "output_type": "stream",
     "text": [
      "10000.0\n"
     ]
    }
   ],
   "source": [
    "class Employee:\n",
    "    def __init__(self, name, salary, role):\n",
    "        self.name = name\n",
    "        self.salary = salary\n",
    "        self.role = role\n",
    "    \n",
    "    def bonus(self):\n",
    "        if self.role.lower() == \"manager\":\n",
    "            return 0.2 * self.salary\n",
    "        elif self.role.lower() == \"developer\":\n",
    "            return 0.1 * self.salary\n",
    "        elif self.role.lower() == \"intern\":\n",
    "            return 0.05 * self.salary\n",
    "        return 0\n",
    "\n",
    "m = Employee(\"Alice\", 50000, \"Manager\")\n",
    "print(m.bonus())  \n"
   ]
  },
  {
   "cell_type": "code",
   "execution_count": 26,
   "id": "5d016a4e",
   "metadata": {},
   "outputs": [
    {
     "name": "stdout",
     "output_type": "stream",
     "text": [
      "153.94\n",
      "20\n"
     ]
    }
   ],
   "source": [
    "import math\n",
    "\n",
    "class Shape:\n",
    "    def __init__(self, name):\n",
    "        self.name = name\n",
    "    \n",
    "    def area(self):\n",
    "        pass\n",
    "\n",
    "class Circle(Shape):\n",
    "    def __init__(self, radius):\n",
    "        super().__init__(\"Circle\")\n",
    "        self.radius = radius\n",
    "    \n",
    "    def area(self):\n",
    "        return round(math.pi * self.radius**2, 2)\n",
    "\n",
    "class Rectangle(Shape):\n",
    "    def __init__(self, width, height):\n",
    "        super().__init__(\"Rectangle\")\n",
    "        self.width = width\n",
    "        self.height = height\n",
    "    \n",
    "    def area(self):\n",
    "        return self.width * self.height\n",
    "\n",
    "c = Circle(7)\n",
    "print(c.area())  \n",
    "r = Rectangle(4, 5)\n",
    "print(r.area())  \n"
   ]
  },
  {
   "cell_type": "code",
   "execution_count": 27,
   "id": "274a2369",
   "metadata": {},
   "outputs": [
    {
     "name": "stdout",
     "output_type": "stream",
     "text": [
      "Total = 2000\n",
      "{'Shirt': 500, 'Shoes': 1500}\n"
     ]
    }
   ],
   "source": [
    "class Order:\n",
    "    def __init__(self):\n",
    "        self.items={}\n",
    "    def add(self,item,price):\n",
    "        self.items[item]=price\n",
    "    def remove(self,item):\n",
    "        if item in self.items:\n",
    "            del self.items[item]\n",
    "    def calculate_total(self):\n",
    "        return f\"Total = {sum(self.items.values())}\"\n",
    "    \n",
    "    def show_items(self):\n",
    "        return self.items\n",
    "order = Order()\n",
    "order.add(\"Shirt\", 500)\n",
    "order.add(\"Shoes\", 1500)\n",
    "print(order.calculate_total()) \n",
    "print(order.show_items())"
   ]
  },
  {
   "cell_type": "code",
   "execution_count": null,
   "id": "a375be13",
   "metadata": {},
   "outputs": [],
   "source": []
  }
 ],
 "metadata": {
  "kernelspec": {
   "display_name": "Python 3",
   "language": "python",
   "name": "python3"
  },
  "language_info": {
   "codemirror_mode": {
    "name": "ipython",
    "version": 3
   },
   "file_extension": ".py",
   "mimetype": "text/x-python",
   "name": "python",
   "nbconvert_exporter": "python",
   "pygments_lexer": "ipython3",
   "version": "3.11.0"
  }
 },
 "nbformat": 4,
 "nbformat_minor": 5
}
